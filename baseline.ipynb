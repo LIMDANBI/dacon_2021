{
 "cells": [
  {
   "cell_type": "markdown",
   "metadata": {
    "colab_type": "text",
    "id": "view-in-github"
   },
   "source": [
    "<a href=\"https://colab.research.google.com/github/LIMDANBI/dacon_2021/blob/main/Prediction_of_default_rate.ipynb\" target=\"_parent\"><img src=\"https://colab.research.google.com/assets/colab-badge.svg\" alt=\"Open In Colab\"/></a>"
   ]
  },
  {
   "cell_type": "code",
   "execution_count": 1,
   "metadata": {
    "id": "N_6p3blFpe97"
   },
   "outputs": [],
   "source": [
    "import pandas as pd\n",
    "import numpy as np\n",
    "import matplotlib.pyplot as plt\n",
    "import seaborn as sns\n",
    "\n",
    "%matplotlib inline"
   ]
  },
  {
   "cell_type": "markdown",
   "metadata": {
    "id": "SqnE_vUry-9b"
   },
   "source": [
    "# Data"
   ]
  },
  {
   "cell_type": "code",
   "execution_count": 2,
   "metadata": {
    "id": "YQouryo3piAs"
   },
   "outputs": [],
   "source": [
    "train = pd.read_csv(\"dataset/train.csv\")\n",
    "test = pd.read_csv(\"dataset/test.csv\")"
   ]
  },
  {
   "cell_type": "code",
   "execution_count": 3,
   "metadata": {
    "colab": {
     "base_uri": "https://localhost:8080/",
     "height": 672
    },
    "id": "D201Qkz2rLZo",
    "outputId": "7d3a484d-fd1b-41ee-8ef0-390371ba0420"
   },
   "outputs": [
    {
     "data": {
      "text/html": [
       "<div>\n",
       "<style scoped>\n",
       "    .dataframe tbody tr th:only-of-type {\n",
       "        vertical-align: middle;\n",
       "    }\n",
       "\n",
       "    .dataframe tbody tr th {\n",
       "        vertical-align: top;\n",
       "    }\n",
       "\n",
       "    .dataframe thead th {\n",
       "        text-align: right;\n",
       "    }\n",
       "</style>\n",
       "<table border=\"1\" class=\"dataframe\">\n",
       "  <thead>\n",
       "    <tr style=\"text-align: right;\">\n",
       "      <th></th>\n",
       "      <th>index</th>\n",
       "      <th>gender</th>\n",
       "      <th>Annual_income</th>\n",
       "      <th>income_type</th>\n",
       "      <th>Education</th>\n",
       "      <th>family_type</th>\n",
       "      <th>house_type</th>\n",
       "      <th>DAYS_BIRTH</th>\n",
       "      <th>working_day</th>\n",
       "      <th>FLAG_MOBIL</th>\n",
       "      <th>work_phone</th>\n",
       "      <th>phone</th>\n",
       "      <th>email</th>\n",
       "      <th>occyp_type</th>\n",
       "      <th>begin_month</th>\n",
       "      <th>car_reality</th>\n",
       "      <th>credit</th>\n",
       "    </tr>\n",
       "  </thead>\n",
       "  <tbody>\n",
       "    <tr>\n",
       "      <th>0</th>\n",
       "      <td>0</td>\n",
       "      <td>F</td>\n",
       "      <td>202500.0</td>\n",
       "      <td>Commercial associate</td>\n",
       "      <td>Higher education</td>\n",
       "      <td>Married</td>\n",
       "      <td>Municipal apartment</td>\n",
       "      <td>-13899</td>\n",
       "      <td>-4709</td>\n",
       "      <td>1</td>\n",
       "      <td>0</td>\n",
       "      <td>0</td>\n",
       "      <td>0</td>\n",
       "      <td>NaN</td>\n",
       "      <td>-6.0</td>\n",
       "      <td>0</td>\n",
       "      <td>1.0</td>\n",
       "    </tr>\n",
       "    <tr>\n",
       "      <th>1</th>\n",
       "      <td>1</td>\n",
       "      <td>F</td>\n",
       "      <td>247500.0</td>\n",
       "      <td>Commercial associate</td>\n",
       "      <td>Secondary / secondary special</td>\n",
       "      <td>Civil marriage</td>\n",
       "      <td>House / apartment</td>\n",
       "      <td>-11380</td>\n",
       "      <td>-1540</td>\n",
       "      <td>1</td>\n",
       "      <td>0</td>\n",
       "      <td>0</td>\n",
       "      <td>1</td>\n",
       "      <td>Laborers</td>\n",
       "      <td>-5.0</td>\n",
       "      <td>1</td>\n",
       "      <td>1.0</td>\n",
       "    </tr>\n",
       "    <tr>\n",
       "      <th>2</th>\n",
       "      <td>2</td>\n",
       "      <td>M</td>\n",
       "      <td>450000.0</td>\n",
       "      <td>Working</td>\n",
       "      <td>Higher education</td>\n",
       "      <td>Married</td>\n",
       "      <td>House / apartment</td>\n",
       "      <td>-19087</td>\n",
       "      <td>-4434</td>\n",
       "      <td>1</td>\n",
       "      <td>0</td>\n",
       "      <td>1</td>\n",
       "      <td>0</td>\n",
       "      <td>Managers</td>\n",
       "      <td>-22.0</td>\n",
       "      <td>2</td>\n",
       "      <td>2.0</td>\n",
       "    </tr>\n",
       "    <tr>\n",
       "      <th>3</th>\n",
       "      <td>3</td>\n",
       "      <td>F</td>\n",
       "      <td>202500.0</td>\n",
       "      <td>Commercial associate</td>\n",
       "      <td>Secondary / secondary special</td>\n",
       "      <td>Married</td>\n",
       "      <td>House / apartment</td>\n",
       "      <td>-15088</td>\n",
       "      <td>-2092</td>\n",
       "      <td>1</td>\n",
       "      <td>0</td>\n",
       "      <td>1</td>\n",
       "      <td>0</td>\n",
       "      <td>Sales staff</td>\n",
       "      <td>-37.0</td>\n",
       "      <td>1</td>\n",
       "      <td>0.0</td>\n",
       "    </tr>\n",
       "    <tr>\n",
       "      <th>4</th>\n",
       "      <td>4</td>\n",
       "      <td>F</td>\n",
       "      <td>157500.0</td>\n",
       "      <td>State servant</td>\n",
       "      <td>Higher education</td>\n",
       "      <td>Married</td>\n",
       "      <td>House / apartment</td>\n",
       "      <td>-15037</td>\n",
       "      <td>-2105</td>\n",
       "      <td>1</td>\n",
       "      <td>0</td>\n",
       "      <td>0</td>\n",
       "      <td>0</td>\n",
       "      <td>Managers</td>\n",
       "      <td>-26.0</td>\n",
       "      <td>2</td>\n",
       "      <td>2.0</td>\n",
       "    </tr>\n",
       "    <tr>\n",
       "      <th>...</th>\n",
       "      <td>...</td>\n",
       "      <td>...</td>\n",
       "      <td>...</td>\n",
       "      <td>...</td>\n",
       "      <td>...</td>\n",
       "      <td>...</td>\n",
       "      <td>...</td>\n",
       "      <td>...</td>\n",
       "      <td>...</td>\n",
       "      <td>...</td>\n",
       "      <td>...</td>\n",
       "      <td>...</td>\n",
       "      <td>...</td>\n",
       "      <td>...</td>\n",
       "      <td>...</td>\n",
       "      <td>...</td>\n",
       "      <td>...</td>\n",
       "    </tr>\n",
       "    <tr>\n",
       "      <th>26452</th>\n",
       "      <td>26452</td>\n",
       "      <td>F</td>\n",
       "      <td>225000.0</td>\n",
       "      <td>State servant</td>\n",
       "      <td>Secondary / secondary special</td>\n",
       "      <td>Married</td>\n",
       "      <td>House / apartment</td>\n",
       "      <td>-12079</td>\n",
       "      <td>-1984</td>\n",
       "      <td>1</td>\n",
       "      <td>0</td>\n",
       "      <td>0</td>\n",
       "      <td>0</td>\n",
       "      <td>Core staff</td>\n",
       "      <td>-2.0</td>\n",
       "      <td>0</td>\n",
       "      <td>1.0</td>\n",
       "    </tr>\n",
       "    <tr>\n",
       "      <th>26453</th>\n",
       "      <td>26453</td>\n",
       "      <td>F</td>\n",
       "      <td>180000.0</td>\n",
       "      <td>Working</td>\n",
       "      <td>Higher education</td>\n",
       "      <td>Separated</td>\n",
       "      <td>House / apartment</td>\n",
       "      <td>-15291</td>\n",
       "      <td>-2475</td>\n",
       "      <td>1</td>\n",
       "      <td>0</td>\n",
       "      <td>0</td>\n",
       "      <td>0</td>\n",
       "      <td>NaN</td>\n",
       "      <td>-47.0</td>\n",
       "      <td>1</td>\n",
       "      <td>2.0</td>\n",
       "    </tr>\n",
       "    <tr>\n",
       "      <th>26454</th>\n",
       "      <td>26454</td>\n",
       "      <td>F</td>\n",
       "      <td>292500.0</td>\n",
       "      <td>Working</td>\n",
       "      <td>Secondary / secondary special</td>\n",
       "      <td>Civil marriage</td>\n",
       "      <td>With parents</td>\n",
       "      <td>-10082</td>\n",
       "      <td>-2015</td>\n",
       "      <td>1</td>\n",
       "      <td>0</td>\n",
       "      <td>0</td>\n",
       "      <td>0</td>\n",
       "      <td>Core staff</td>\n",
       "      <td>-25.0</td>\n",
       "      <td>1</td>\n",
       "      <td>2.0</td>\n",
       "    </tr>\n",
       "    <tr>\n",
       "      <th>26455</th>\n",
       "      <td>26455</td>\n",
       "      <td>M</td>\n",
       "      <td>171000.0</td>\n",
       "      <td>Working</td>\n",
       "      <td>Incomplete higher</td>\n",
       "      <td>Single / not married</td>\n",
       "      <td>House / apartment</td>\n",
       "      <td>-10145</td>\n",
       "      <td>-107</td>\n",
       "      <td>1</td>\n",
       "      <td>0</td>\n",
       "      <td>0</td>\n",
       "      <td>0</td>\n",
       "      <td>Laborers</td>\n",
       "      <td>-59.0</td>\n",
       "      <td>1</td>\n",
       "      <td>2.0</td>\n",
       "    </tr>\n",
       "    <tr>\n",
       "      <th>26456</th>\n",
       "      <td>26456</td>\n",
       "      <td>F</td>\n",
       "      <td>81000.0</td>\n",
       "      <td>Working</td>\n",
       "      <td>Secondary / secondary special</td>\n",
       "      <td>Civil marriage</td>\n",
       "      <td>House / apartment</td>\n",
       "      <td>-19569</td>\n",
       "      <td>-1013</td>\n",
       "      <td>1</td>\n",
       "      <td>0</td>\n",
       "      <td>0</td>\n",
       "      <td>0</td>\n",
       "      <td>Security staff</td>\n",
       "      <td>-9.0</td>\n",
       "      <td>0</td>\n",
       "      <td>2.0</td>\n",
       "    </tr>\n",
       "  </tbody>\n",
       "</table>\n",
       "<p>26457 rows × 17 columns</p>\n",
       "</div>"
      ],
      "text/plain": [
       "       index gender  Annual_income           income_type  \\\n",
       "0          0      F       202500.0  Commercial associate   \n",
       "1          1      F       247500.0  Commercial associate   \n",
       "2          2      M       450000.0               Working   \n",
       "3          3      F       202500.0  Commercial associate   \n",
       "4          4      F       157500.0         State servant   \n",
       "...      ...    ...            ...                   ...   \n",
       "26452  26452      F       225000.0         State servant   \n",
       "26453  26453      F       180000.0               Working   \n",
       "26454  26454      F       292500.0               Working   \n",
       "26455  26455      M       171000.0               Working   \n",
       "26456  26456      F        81000.0               Working   \n",
       "\n",
       "                           Education           family_type  \\\n",
       "0                   Higher education               Married   \n",
       "1      Secondary / secondary special        Civil marriage   \n",
       "2                   Higher education               Married   \n",
       "3      Secondary / secondary special               Married   \n",
       "4                   Higher education               Married   \n",
       "...                              ...                   ...   \n",
       "26452  Secondary / secondary special               Married   \n",
       "26453               Higher education             Separated   \n",
       "26454  Secondary / secondary special        Civil marriage   \n",
       "26455              Incomplete higher  Single / not married   \n",
       "26456  Secondary / secondary special        Civil marriage   \n",
       "\n",
       "                house_type  DAYS_BIRTH  working_day  FLAG_MOBIL  work_phone  \\\n",
       "0      Municipal apartment      -13899        -4709           1           0   \n",
       "1        House / apartment      -11380        -1540           1           0   \n",
       "2        House / apartment      -19087        -4434           1           0   \n",
       "3        House / apartment      -15088        -2092           1           0   \n",
       "4        House / apartment      -15037        -2105           1           0   \n",
       "...                    ...         ...          ...         ...         ...   \n",
       "26452    House / apartment      -12079        -1984           1           0   \n",
       "26453    House / apartment      -15291        -2475           1           0   \n",
       "26454         With parents      -10082        -2015           1           0   \n",
       "26455    House / apartment      -10145         -107           1           0   \n",
       "26456    House / apartment      -19569        -1013           1           0   \n",
       "\n",
       "       phone  email      occyp_type  begin_month  car_reality  credit  \n",
       "0          0      0             NaN         -6.0            0     1.0  \n",
       "1          0      1        Laborers         -5.0            1     1.0  \n",
       "2          1      0        Managers        -22.0            2     2.0  \n",
       "3          1      0     Sales staff        -37.0            1     0.0  \n",
       "4          0      0        Managers        -26.0            2     2.0  \n",
       "...      ...    ...             ...          ...          ...     ...  \n",
       "26452      0      0      Core staff         -2.0            0     1.0  \n",
       "26453      0      0             NaN        -47.0            1     2.0  \n",
       "26454      0      0      Core staff        -25.0            1     2.0  \n",
       "26455      0      0        Laborers        -59.0            1     2.0  \n",
       "26456      0      0  Security staff         -9.0            0     2.0  \n",
       "\n",
       "[26457 rows x 17 columns]"
      ]
     },
     "execution_count": 3,
     "metadata": {},
     "output_type": "execute_result"
    }
   ],
   "source": [
    "train"
   ]
  },
  {
   "cell_type": "code",
   "execution_count": 4,
   "metadata": {
    "colab": {
     "base_uri": "https://localhost:8080/",
     "height": 688
    },
    "id": "gI4PKjTJrGZB",
    "outputId": "0df7425d-3db4-4ba8-881f-18f5b7e8b62d"
   },
   "outputs": [
    {
     "data": {
      "text/html": [
       "<div>\n",
       "<style scoped>\n",
       "    .dataframe tbody tr th:only-of-type {\n",
       "        vertical-align: middle;\n",
       "    }\n",
       "\n",
       "    .dataframe tbody tr th {\n",
       "        vertical-align: top;\n",
       "    }\n",
       "\n",
       "    .dataframe thead th {\n",
       "        text-align: right;\n",
       "    }\n",
       "</style>\n",
       "<table border=\"1\" class=\"dataframe\">\n",
       "  <thead>\n",
       "    <tr style=\"text-align: right;\">\n",
       "      <th></th>\n",
       "      <th>index</th>\n",
       "      <th>gender</th>\n",
       "      <th>Annual_income</th>\n",
       "      <th>income_type</th>\n",
       "      <th>Education</th>\n",
       "      <th>family_type</th>\n",
       "      <th>house_type</th>\n",
       "      <th>DAYS_BIRTH</th>\n",
       "      <th>working_day</th>\n",
       "      <th>FLAG_MOBIL</th>\n",
       "      <th>work_phone</th>\n",
       "      <th>phone</th>\n",
       "      <th>email</th>\n",
       "      <th>occyp_type</th>\n",
       "      <th>begin_month</th>\n",
       "      <th>car_reality</th>\n",
       "    </tr>\n",
       "  </thead>\n",
       "  <tbody>\n",
       "    <tr>\n",
       "      <th>0</th>\n",
       "      <td>26457</td>\n",
       "      <td>M</td>\n",
       "      <td>112500.0</td>\n",
       "      <td>Pensioner</td>\n",
       "      <td>Secondary / secondary special</td>\n",
       "      <td>Civil marriage</td>\n",
       "      <td>House / apartment</td>\n",
       "      <td>-21990</td>\n",
       "      <td>0</td>\n",
       "      <td>1</td>\n",
       "      <td>0</td>\n",
       "      <td>1</td>\n",
       "      <td>0</td>\n",
       "      <td>NaN</td>\n",
       "      <td>-60.0</td>\n",
       "      <td>1</td>\n",
       "    </tr>\n",
       "    <tr>\n",
       "      <th>1</th>\n",
       "      <td>26458</td>\n",
       "      <td>F</td>\n",
       "      <td>135000.0</td>\n",
       "      <td>State servant</td>\n",
       "      <td>Higher education</td>\n",
       "      <td>Married</td>\n",
       "      <td>House / apartment</td>\n",
       "      <td>-18964</td>\n",
       "      <td>-8671</td>\n",
       "      <td>1</td>\n",
       "      <td>0</td>\n",
       "      <td>1</td>\n",
       "      <td>0</td>\n",
       "      <td>Core staff</td>\n",
       "      <td>-36.0</td>\n",
       "      <td>1</td>\n",
       "    </tr>\n",
       "    <tr>\n",
       "      <th>2</th>\n",
       "      <td>26459</td>\n",
       "      <td>F</td>\n",
       "      <td>69372.0</td>\n",
       "      <td>Working</td>\n",
       "      <td>Secondary / secondary special</td>\n",
       "      <td>Married</td>\n",
       "      <td>House / apartment</td>\n",
       "      <td>-15887</td>\n",
       "      <td>-217</td>\n",
       "      <td>1</td>\n",
       "      <td>1</td>\n",
       "      <td>1</td>\n",
       "      <td>0</td>\n",
       "      <td>Laborers</td>\n",
       "      <td>-40.0</td>\n",
       "      <td>1</td>\n",
       "    </tr>\n",
       "    <tr>\n",
       "      <th>3</th>\n",
       "      <td>26460</td>\n",
       "      <td>M</td>\n",
       "      <td>112500.0</td>\n",
       "      <td>Commercial associate</td>\n",
       "      <td>Secondary / secondary special</td>\n",
       "      <td>Married</td>\n",
       "      <td>House / apartment</td>\n",
       "      <td>-19270</td>\n",
       "      <td>-2531</td>\n",
       "      <td>1</td>\n",
       "      <td>1</td>\n",
       "      <td>0</td>\n",
       "      <td>0</td>\n",
       "      <td>Drivers</td>\n",
       "      <td>-41.0</td>\n",
       "      <td>1</td>\n",
       "    </tr>\n",
       "    <tr>\n",
       "      <th>4</th>\n",
       "      <td>26461</td>\n",
       "      <td>F</td>\n",
       "      <td>225000.0</td>\n",
       "      <td>State servant</td>\n",
       "      <td>Higher education</td>\n",
       "      <td>Married</td>\n",
       "      <td>House / apartment</td>\n",
       "      <td>-17822</td>\n",
       "      <td>-9385</td>\n",
       "      <td>1</td>\n",
       "      <td>1</td>\n",
       "      <td>0</td>\n",
       "      <td>0</td>\n",
       "      <td>Managers</td>\n",
       "      <td>-8.0</td>\n",
       "      <td>2</td>\n",
       "    </tr>\n",
       "    <tr>\n",
       "      <th>...</th>\n",
       "      <td>...</td>\n",
       "      <td>...</td>\n",
       "      <td>...</td>\n",
       "      <td>...</td>\n",
       "      <td>...</td>\n",
       "      <td>...</td>\n",
       "      <td>...</td>\n",
       "      <td>...</td>\n",
       "      <td>...</td>\n",
       "      <td>...</td>\n",
       "      <td>...</td>\n",
       "      <td>...</td>\n",
       "      <td>...</td>\n",
       "      <td>...</td>\n",
       "      <td>...</td>\n",
       "      <td>...</td>\n",
       "    </tr>\n",
       "    <tr>\n",
       "      <th>9995</th>\n",
       "      <td>36452</td>\n",
       "      <td>F</td>\n",
       "      <td>202500.0</td>\n",
       "      <td>Working</td>\n",
       "      <td>Incomplete higher</td>\n",
       "      <td>Married</td>\n",
       "      <td>House / apartment</td>\n",
       "      <td>-18593</td>\n",
       "      <td>-5434</td>\n",
       "      <td>1</td>\n",
       "      <td>1</td>\n",
       "      <td>1</td>\n",
       "      <td>0</td>\n",
       "      <td>Accountants</td>\n",
       "      <td>-19.0</td>\n",
       "      <td>2</td>\n",
       "    </tr>\n",
       "    <tr>\n",
       "      <th>9996</th>\n",
       "      <td>36453</td>\n",
       "      <td>M</td>\n",
       "      <td>202500.0</td>\n",
       "      <td>Working</td>\n",
       "      <td>Secondary / secondary special</td>\n",
       "      <td>Civil marriage</td>\n",
       "      <td>House / apartment</td>\n",
       "      <td>-10886</td>\n",
       "      <td>-1315</td>\n",
       "      <td>1</td>\n",
       "      <td>1</td>\n",
       "      <td>0</td>\n",
       "      <td>0</td>\n",
       "      <td>Laborers</td>\n",
       "      <td>-34.0</td>\n",
       "      <td>2</td>\n",
       "    </tr>\n",
       "    <tr>\n",
       "      <th>9997</th>\n",
       "      <td>36454</td>\n",
       "      <td>F</td>\n",
       "      <td>292500.0</td>\n",
       "      <td>Working</td>\n",
       "      <td>Secondary / secondary special</td>\n",
       "      <td>Married</td>\n",
       "      <td>House / apartment</td>\n",
       "      <td>-21016</td>\n",
       "      <td>-14018</td>\n",
       "      <td>1</td>\n",
       "      <td>0</td>\n",
       "      <td>0</td>\n",
       "      <td>0</td>\n",
       "      <td>Medicine staff</td>\n",
       "      <td>-55.0</td>\n",
       "      <td>1</td>\n",
       "    </tr>\n",
       "    <tr>\n",
       "      <th>9998</th>\n",
       "      <td>36455</td>\n",
       "      <td>F</td>\n",
       "      <td>180000.0</td>\n",
       "      <td>Commercial associate</td>\n",
       "      <td>Secondary / secondary special</td>\n",
       "      <td>Married</td>\n",
       "      <td>House / apartment</td>\n",
       "      <td>-16541</td>\n",
       "      <td>-1085</td>\n",
       "      <td>1</td>\n",
       "      <td>0</td>\n",
       "      <td>1</td>\n",
       "      <td>0</td>\n",
       "      <td>NaN</td>\n",
       "      <td>-33.0</td>\n",
       "      <td>1</td>\n",
       "    </tr>\n",
       "    <tr>\n",
       "      <th>9999</th>\n",
       "      <td>36456</td>\n",
       "      <td>F</td>\n",
       "      <td>270000.0</td>\n",
       "      <td>Working</td>\n",
       "      <td>Higher education</td>\n",
       "      <td>Married</td>\n",
       "      <td>House / apartment</td>\n",
       "      <td>-9154</td>\n",
       "      <td>-187</td>\n",
       "      <td>1</td>\n",
       "      <td>0</td>\n",
       "      <td>0</td>\n",
       "      <td>1</td>\n",
       "      <td>Laborers</td>\n",
       "      <td>-11.0</td>\n",
       "      <td>1</td>\n",
       "    </tr>\n",
       "  </tbody>\n",
       "</table>\n",
       "<p>10000 rows × 16 columns</p>\n",
       "</div>"
      ],
      "text/plain": [
       "      index gender  Annual_income           income_type  \\\n",
       "0     26457      M       112500.0             Pensioner   \n",
       "1     26458      F       135000.0         State servant   \n",
       "2     26459      F        69372.0               Working   \n",
       "3     26460      M       112500.0  Commercial associate   \n",
       "4     26461      F       225000.0         State servant   \n",
       "...     ...    ...            ...                   ...   \n",
       "9995  36452      F       202500.0               Working   \n",
       "9996  36453      M       202500.0               Working   \n",
       "9997  36454      F       292500.0               Working   \n",
       "9998  36455      F       180000.0  Commercial associate   \n",
       "9999  36456      F       270000.0               Working   \n",
       "\n",
       "                          Education     family_type         house_type  \\\n",
       "0     Secondary / secondary special  Civil marriage  House / apartment   \n",
       "1                  Higher education         Married  House / apartment   \n",
       "2     Secondary / secondary special         Married  House / apartment   \n",
       "3     Secondary / secondary special         Married  House / apartment   \n",
       "4                  Higher education         Married  House / apartment   \n",
       "...                             ...             ...                ...   \n",
       "9995              Incomplete higher         Married  House / apartment   \n",
       "9996  Secondary / secondary special  Civil marriage  House / apartment   \n",
       "9997  Secondary / secondary special         Married  House / apartment   \n",
       "9998  Secondary / secondary special         Married  House / apartment   \n",
       "9999               Higher education         Married  House / apartment   \n",
       "\n",
       "      DAYS_BIRTH  working_day  FLAG_MOBIL  work_phone  phone  email  \\\n",
       "0         -21990            0           1           0      1      0   \n",
       "1         -18964        -8671           1           0      1      0   \n",
       "2         -15887         -217           1           1      1      0   \n",
       "3         -19270        -2531           1           1      0      0   \n",
       "4         -17822        -9385           1           1      0      0   \n",
       "...          ...          ...         ...         ...    ...    ...   \n",
       "9995      -18593        -5434           1           1      1      0   \n",
       "9996      -10886        -1315           1           1      0      0   \n",
       "9997      -21016       -14018           1           0      0      0   \n",
       "9998      -16541        -1085           1           0      1      0   \n",
       "9999       -9154         -187           1           0      0      1   \n",
       "\n",
       "          occyp_type  begin_month  car_reality  \n",
       "0                NaN        -60.0            1  \n",
       "1         Core staff        -36.0            1  \n",
       "2           Laborers        -40.0            1  \n",
       "3            Drivers        -41.0            1  \n",
       "4           Managers         -8.0            2  \n",
       "...              ...          ...          ...  \n",
       "9995     Accountants        -19.0            2  \n",
       "9996        Laborers        -34.0            2  \n",
       "9997  Medicine staff        -55.0            1  \n",
       "9998             NaN        -33.0            1  \n",
       "9999        Laborers        -11.0            1  \n",
       "\n",
       "[10000 rows x 16 columns]"
      ]
     },
     "execution_count": 4,
     "metadata": {},
     "output_type": "execute_result"
    }
   ],
   "source": [
    "test"
   ]
  },
  {
   "cell_type": "code",
   "execution_count": 5,
   "metadata": {
    "colab": {
     "base_uri": "https://localhost:8080/"
    },
    "id": "6A3MBTZUrzjc",
    "outputId": "d3c19694-b03a-4ad8-f190-470be0727770"
   },
   "outputs": [
    {
     "name": "stdout",
     "output_type": "stream",
     "text": [
      "<class 'pandas.core.frame.DataFrame'>\n",
      "RangeIndex: 26457 entries, 0 to 26456\n",
      "Data columns (total 17 columns):\n",
      " #   Column         Non-Null Count  Dtype  \n",
      "---  ------         --------------  -----  \n",
      " 0   index          26457 non-null  int64  \n",
      " 1   gender         26457 non-null  object \n",
      " 2   Annual_income  26457 non-null  float64\n",
      " 3   income_type    26457 non-null  object \n",
      " 4   Education      26457 non-null  object \n",
      " 5   family_type    26457 non-null  object \n",
      " 6   house_type     26457 non-null  object \n",
      " 7   DAYS_BIRTH     26457 non-null  int64  \n",
      " 8   working_day    26457 non-null  int64  \n",
      " 9   FLAG_MOBIL     26457 non-null  int64  \n",
      " 10  work_phone     26457 non-null  int64  \n",
      " 11  phone          26457 non-null  int64  \n",
      " 12  email          26457 non-null  int64  \n",
      " 13  occyp_type     18286 non-null  object \n",
      " 14  begin_month    26457 non-null  float64\n",
      " 15  car_reality    26457 non-null  int64  \n",
      " 16  credit         26457 non-null  float64\n",
      "dtypes: float64(3), int64(8), object(6)\n",
      "memory usage: 3.4+ MB\n"
     ]
    }
   ],
   "source": [
    "train.info()"
   ]
  },
  {
   "cell_type": "code",
   "execution_count": 6,
   "metadata": {
    "colab": {
     "base_uri": "https://localhost:8080/"
    },
    "id": "HZ5MdGxIuwG6",
    "outputId": "7906b2d8-481b-4c3c-9370-c12bce5caef5"
   },
   "outputs": [
    {
     "data": {
      "text/plain": [
       "index               0\n",
       "gender              0\n",
       "Annual_income       0\n",
       "income_type         0\n",
       "Education           0\n",
       "family_type         0\n",
       "house_type          0\n",
       "DAYS_BIRTH          0\n",
       "working_day         0\n",
       "FLAG_MOBIL          0\n",
       "work_phone          0\n",
       "phone               0\n",
       "email               0\n",
       "occyp_type       8171\n",
       "begin_month         0\n",
       "car_reality         0\n",
       "credit              0\n",
       "dtype: int64"
      ]
     },
     "execution_count": 6,
     "metadata": {},
     "output_type": "execute_result"
    }
   ],
   "source": [
    "train.isnull().sum()"
   ]
  },
  {
   "cell_type": "code",
   "execution_count": 7,
   "metadata": {
    "colab": {
     "base_uri": "https://localhost:8080/"
    },
    "id": "MMr-fM_tx-8b",
    "outputId": "7e3cbd46-9a6a-4609-f211-06e9e6145791"
   },
   "outputs": [
    {
     "name": "stdout",
     "output_type": "stream",
     "text": [
      "<class 'pandas.core.frame.DataFrame'>\n",
      "RangeIndex: 10000 entries, 0 to 9999\n",
      "Data columns (total 16 columns):\n",
      " #   Column         Non-Null Count  Dtype  \n",
      "---  ------         --------------  -----  \n",
      " 0   index          10000 non-null  int64  \n",
      " 1   gender         10000 non-null  object \n",
      " 2   Annual_income  10000 non-null  float64\n",
      " 3   income_type    10000 non-null  object \n",
      " 4   Education      10000 non-null  object \n",
      " 5   family_type    10000 non-null  object \n",
      " 6   house_type     10000 non-null  object \n",
      " 7   DAYS_BIRTH     10000 non-null  int64  \n",
      " 8   working_day    10000 non-null  int64  \n",
      " 9   FLAG_MOBIL     10000 non-null  int64  \n",
      " 10  work_phone     10000 non-null  int64  \n",
      " 11  phone          10000 non-null  int64  \n",
      " 12  email          10000 non-null  int64  \n",
      " 13  occyp_type     6848 non-null   object \n",
      " 14  begin_month    10000 non-null  float64\n",
      " 15  car_reality    10000 non-null  int64  \n",
      "dtypes: float64(2), int64(8), object(6)\n",
      "memory usage: 1.2+ MB\n"
     ]
    }
   ],
   "source": [
    "test.info()"
   ]
  },
  {
   "cell_type": "code",
   "execution_count": 8,
   "metadata": {
    "colab": {
     "base_uri": "https://localhost:8080/"
    },
    "id": "bubS-zVTwJY5",
    "outputId": "9e78f0cf-f0be-4457-8cf3-57b097b43780"
   },
   "outputs": [
    {
     "data": {
      "text/plain": [
       "index               0\n",
       "gender              0\n",
       "Annual_income       0\n",
       "income_type         0\n",
       "Education           0\n",
       "family_type         0\n",
       "house_type          0\n",
       "DAYS_BIRTH          0\n",
       "working_day         0\n",
       "FLAG_MOBIL          0\n",
       "work_phone          0\n",
       "phone               0\n",
       "email               0\n",
       "occyp_type       3152\n",
       "begin_month         0\n",
       "car_reality         0\n",
       "dtype: int64"
      ]
     },
     "execution_count": 8,
     "metadata": {},
     "output_type": "execute_result"
    }
   ],
   "source": [
    "test.isnull().sum()"
   ]
  },
  {
   "cell_type": "code",
   "execution_count": 9,
   "metadata": {
    "colab": {
     "base_uri": "https://localhost:8080/",
     "height": 290
    },
    "id": "__1-ObTmwJgi",
    "outputId": "a4187274-a061-4087-ba37-615615748d8c"
   },
   "outputs": [
    {
     "data": {
      "text/html": [
       "<div>\n",
       "<style scoped>\n",
       "    .dataframe tbody tr th:only-of-type {\n",
       "        vertical-align: middle;\n",
       "    }\n",
       "\n",
       "    .dataframe tbody tr th {\n",
       "        vertical-align: top;\n",
       "    }\n",
       "\n",
       "    .dataframe thead th {\n",
       "        text-align: right;\n",
       "    }\n",
       "</style>\n",
       "<table border=\"1\" class=\"dataframe\">\n",
       "  <thead>\n",
       "    <tr style=\"text-align: right;\">\n",
       "      <th></th>\n",
       "      <th>index</th>\n",
       "      <th>Annual_income</th>\n",
       "      <th>DAYS_BIRTH</th>\n",
       "      <th>working_day</th>\n",
       "      <th>FLAG_MOBIL</th>\n",
       "      <th>work_phone</th>\n",
       "      <th>phone</th>\n",
       "      <th>email</th>\n",
       "      <th>begin_month</th>\n",
       "      <th>car_reality</th>\n",
       "      <th>credit</th>\n",
       "    </tr>\n",
       "  </thead>\n",
       "  <tbody>\n",
       "    <tr>\n",
       "      <th>count</th>\n",
       "      <td>26457.000000</td>\n",
       "      <td>2.645700e+04</td>\n",
       "      <td>26457.000000</td>\n",
       "      <td>26457.000000</td>\n",
       "      <td>26457.0</td>\n",
       "      <td>26457.000000</td>\n",
       "      <td>26457.000000</td>\n",
       "      <td>26457.000000</td>\n",
       "      <td>26457.000000</td>\n",
       "      <td>26457.000000</td>\n",
       "      <td>26457.000000</td>\n",
       "    </tr>\n",
       "    <tr>\n",
       "      <th>mean</th>\n",
       "      <td>13228.000000</td>\n",
       "      <td>1.873065e+05</td>\n",
       "      <td>-15958.053899</td>\n",
       "      <td>-2198.529538</td>\n",
       "      <td>1.0</td>\n",
       "      <td>0.224742</td>\n",
       "      <td>0.294251</td>\n",
       "      <td>0.091280</td>\n",
       "      <td>-26.123294</td>\n",
       "      <td>1.053672</td>\n",
       "      <td>1.519560</td>\n",
       "    </tr>\n",
       "    <tr>\n",
       "      <th>std</th>\n",
       "      <td>7637.622372</td>\n",
       "      <td>1.018784e+05</td>\n",
       "      <td>4201.589022</td>\n",
       "      <td>2370.140530</td>\n",
       "      <td>0.0</td>\n",
       "      <td>0.417420</td>\n",
       "      <td>0.455714</td>\n",
       "      <td>0.288013</td>\n",
       "      <td>16.559550</td>\n",
       "      <td>0.669144</td>\n",
       "      <td>0.702283</td>\n",
       "    </tr>\n",
       "    <tr>\n",
       "      <th>min</th>\n",
       "      <td>0.000000</td>\n",
       "      <td>2.700000e+04</td>\n",
       "      <td>-25152.000000</td>\n",
       "      <td>-15713.000000</td>\n",
       "      <td>1.0</td>\n",
       "      <td>0.000000</td>\n",
       "      <td>0.000000</td>\n",
       "      <td>0.000000</td>\n",
       "      <td>-60.000000</td>\n",
       "      <td>0.000000</td>\n",
       "      <td>0.000000</td>\n",
       "    </tr>\n",
       "    <tr>\n",
       "      <th>25%</th>\n",
       "      <td>6614.000000</td>\n",
       "      <td>1.215000e+05</td>\n",
       "      <td>-19431.000000</td>\n",
       "      <td>-3153.000000</td>\n",
       "      <td>1.0</td>\n",
       "      <td>0.000000</td>\n",
       "      <td>0.000000</td>\n",
       "      <td>0.000000</td>\n",
       "      <td>-39.000000</td>\n",
       "      <td>1.000000</td>\n",
       "      <td>1.000000</td>\n",
       "    </tr>\n",
       "    <tr>\n",
       "      <th>50%</th>\n",
       "      <td>13228.000000</td>\n",
       "      <td>1.575000e+05</td>\n",
       "      <td>-15547.000000</td>\n",
       "      <td>-1539.000000</td>\n",
       "      <td>1.0</td>\n",
       "      <td>0.000000</td>\n",
       "      <td>0.000000</td>\n",
       "      <td>0.000000</td>\n",
       "      <td>-24.000000</td>\n",
       "      <td>1.000000</td>\n",
       "      <td>2.000000</td>\n",
       "    </tr>\n",
       "    <tr>\n",
       "      <th>75%</th>\n",
       "      <td>19842.000000</td>\n",
       "      <td>2.250000e+05</td>\n",
       "      <td>-12446.000000</td>\n",
       "      <td>-407.000000</td>\n",
       "      <td>1.0</td>\n",
       "      <td>0.000000</td>\n",
       "      <td>1.000000</td>\n",
       "      <td>0.000000</td>\n",
       "      <td>-12.000000</td>\n",
       "      <td>2.000000</td>\n",
       "      <td>2.000000</td>\n",
       "    </tr>\n",
       "    <tr>\n",
       "      <th>max</th>\n",
       "      <td>26456.000000</td>\n",
       "      <td>1.575000e+06</td>\n",
       "      <td>-7705.000000</td>\n",
       "      <td>0.000000</td>\n",
       "      <td>1.0</td>\n",
       "      <td>1.000000</td>\n",
       "      <td>1.000000</td>\n",
       "      <td>1.000000</td>\n",
       "      <td>0.000000</td>\n",
       "      <td>2.000000</td>\n",
       "      <td>2.000000</td>\n",
       "    </tr>\n",
       "  </tbody>\n",
       "</table>\n",
       "</div>"
      ],
      "text/plain": [
       "              index  Annual_income    DAYS_BIRTH   working_day  FLAG_MOBIL  \\\n",
       "count  26457.000000   2.645700e+04  26457.000000  26457.000000     26457.0   \n",
       "mean   13228.000000   1.873065e+05 -15958.053899  -2198.529538         1.0   \n",
       "std     7637.622372   1.018784e+05   4201.589022   2370.140530         0.0   \n",
       "min        0.000000   2.700000e+04 -25152.000000 -15713.000000         1.0   \n",
       "25%     6614.000000   1.215000e+05 -19431.000000  -3153.000000         1.0   \n",
       "50%    13228.000000   1.575000e+05 -15547.000000  -1539.000000         1.0   \n",
       "75%    19842.000000   2.250000e+05 -12446.000000   -407.000000         1.0   \n",
       "max    26456.000000   1.575000e+06  -7705.000000      0.000000         1.0   \n",
       "\n",
       "         work_phone         phone         email   begin_month   car_reality  \\\n",
       "count  26457.000000  26457.000000  26457.000000  26457.000000  26457.000000   \n",
       "mean       0.224742      0.294251      0.091280    -26.123294      1.053672   \n",
       "std        0.417420      0.455714      0.288013     16.559550      0.669144   \n",
       "min        0.000000      0.000000      0.000000    -60.000000      0.000000   \n",
       "25%        0.000000      0.000000      0.000000    -39.000000      1.000000   \n",
       "50%        0.000000      0.000000      0.000000    -24.000000      1.000000   \n",
       "75%        0.000000      1.000000      0.000000    -12.000000      2.000000   \n",
       "max        1.000000      1.000000      1.000000      0.000000      2.000000   \n",
       "\n",
       "             credit  \n",
       "count  26457.000000  \n",
       "mean       1.519560  \n",
       "std        0.702283  \n",
       "min        0.000000  \n",
       "25%        1.000000  \n",
       "50%        2.000000  \n",
       "75%        2.000000  \n",
       "max        2.000000  "
      ]
     },
     "execution_count": 9,
     "metadata": {},
     "output_type": "execute_result"
    }
   ],
   "source": [
    "train.describe()"
   ]
  },
  {
   "cell_type": "code",
   "execution_count": 10,
   "metadata": {
    "colab": {
     "base_uri": "https://localhost:8080/"
    },
    "id": "YORQnx10wJm0",
    "outputId": "0385c2c7-06ac-4991-febf-c4b1b0da37c6"
   },
   "outputs": [
    {
     "name": "stdout",
     "output_type": "stream",
     "text": [
      "[    0     1     2 ... 26454 26455 26456]\n",
      "['F' 'M']\n",
      "[ 202500.   247500.   450000.   157500.   270000.   315000.   180000.\n",
      "  103500.   193500.   135000.   216000.   225000.   405000.   112500.\n",
      "  121500.   585000.    90900.    99000.    67500.   292500.    90000.\n",
      "  495000.    54000.   306000.   130500.   144000.   360000.    40500.\n",
      "   81000.   351000.   184500.    45000.    79650.   153000.   126000.\n",
      "  382500.   283500.   175500.   297000.   387000.   337500.   256500.\n",
      "   72000.   540000.   155250.   189000.   139500.   459000.   720000.\n",
      "  252000.   171000.   427500.    78750.    94500.   562500.   238500.\n",
      "  630000.    76500.   301500.   229500.   148500.   166500.   463500.\n",
      "  432000.   117000.   787500.   234000.   108000.   279000.   900000.\n",
      "  378000.    31500.    29250.   211500.   207000.    49500.    65250.\n",
      "  265500.   261000.   162000.   310500.   373500.   140850.   123750.\n",
      "  191250.    58500.   198000.    83250.    87448.5  391500.   716323.5\n",
      "  675000.    85500.   990000.   274500.    56250.    92250.    50850.\n",
      "  185400.   140400.   187650.    47250.   324000.   243000.    97731.\n",
      "   37800.   612000.   171261.    73350.  1575000.   222750.   129150.\n",
      "  131400.   267750.   288000.   145350.    56700.    33750.   114750.\n",
      "  179100.   326250.   652500.    33300.   134419.5  115290.   220500.\n",
      "  342000.    63000.    38025.    95850.   945000.   167400.   101250.\n",
      "  143100.    74250.   208350.   231750.    30150.   418500.   634500.\n",
      "  423000.    69372.    36900.   113400.    38250.   742500.   517500.\n",
      "   60750.   560250.   206100.   122400.    62653.5  119250.   196650.\n",
      "  333000.    67050.   369000.   121900.5  810000.    31531.5  173250.\n",
      "  445500.   110250.   133650.   190399.5  240750.   249750.    69750.\n",
      "  328500.   360450.   355500.    72900.   150750.   257625.   161100.\n",
      "  616500.   765000.   396000.   472500.   364500.   255150.    27000.\n",
      "  594000.   124200.   139050.    46948.5  132750.   134995.5  178650.\n",
      "   38700.    61875.   204750.   128542.5  253800.   119700.   176400.\n",
      "  468000.   165600.    36000.   116100.    74700.   132372.    39600.\n",
      "   62100.   175950.   346500.   141750.    60376.5  254700.   151200.\n",
      "   32400.   661500.   441000.    45900.   176175.   118350.   178200.\n",
      "   57150.   494100.    51750.   120150.   227250.    97650.   215100.\n",
      "  531000.   184135.5  177750.    87750.    82350.   159750.   607500.\n",
      "  147150.   165150.   414000.   146250.   168750.   697500.   213750.\n",
      "  116653.5   99900.  1125000.    44550.    91530.   105750.   170302.5\n",
      " 1350000.   179271.   234135.   191700. ]\n",
      "['Commercial associate' 'Working' 'State servant' 'Pensioner' 'Student']\n",
      "['Higher education' 'Secondary / secondary special' 'Incomplete higher'\n",
      " 'Lower secondary' 'Academic degree']\n",
      "['Married' 'Civil marriage' 'Separated' 'Single / not married' 'Widow']\n",
      "['Municipal apartment' 'House / apartment' 'With parents'\n",
      " 'Co-op apartment' 'Rented apartment' 'Office apartment']\n",
      "[-13899 -11380 -19087 ... -24510 -11536 -19912]\n",
      "[-4709 -1540 -4434 ... -1620 -2960 -4973]\n",
      "[1]\n",
      "[0 1]\n",
      "[0 1]\n",
      "[0 1]\n",
      "[nan 'Laborers' 'Managers' 'Sales staff' 'High skill tech staff'\n",
      " 'Core staff' 'Drivers' 'Medicine staff' 'Accountants' 'Realty agents'\n",
      " 'Security staff' 'Cleaning staff' 'Private service staff' 'Cooking staff'\n",
      " 'Secretaries' 'HR staff' 'IT staff' 'Low-skill Laborers'\n",
      " 'Waiters/barmen staff']\n",
      "[ -6.  -5. -22. -37. -26. -18. -41. -53. -38. -40. -51. -60.  -2. -14.\n",
      "  -7. -35.  -4. -13. -57. -47. -33. -30. -20.  -8. -39. -21. -19. -24.\n",
      " -48. -12. -10. -42. -29.  -3. -23. -25.  -1. -15. -32. -59. -54. -34.\n",
      "   0. -27. -45. -56. -46.  -9. -44. -36. -43. -49. -11. -55. -58. -28.\n",
      " -52. -17. -50. -16. -31.]\n",
      "[0 1 2]\n",
      "[1. 2. 0.]\n"
     ]
    }
   ],
   "source": [
    "for col in list(train.columns):\n",
    "    print(train[col].unique())"
   ]
  },
  {
   "cell_type": "code",
   "execution_count": 11,
   "metadata": {
    "id": "k29jjnCVwsjU"
   },
   "outputs": [],
   "source": [
    "train['occyp_type'] = train['occyp_type'].fillna('Null')\n",
    "test['occyp_type'] = test['occyp_type'].fillna('Null')"
   ]
  },
  {
   "cell_type": "code",
   "execution_count": 12,
   "metadata": {
    "colab": {
     "base_uri": "https://localhost:8080/"
    },
    "id": "yaKBKbbAyifT",
    "outputId": "abd258db-b9e2-43b9-ea44-5d43fb2001e0"
   },
   "outputs": [
    {
     "data": {
      "text/plain": [
       "index            0\n",
       "gender           0\n",
       "Annual_income    0\n",
       "income_type      0\n",
       "Education        0\n",
       "family_type      0\n",
       "house_type       0\n",
       "DAYS_BIRTH       0\n",
       "working_day      0\n",
       "FLAG_MOBIL       0\n",
       "work_phone       0\n",
       "phone            0\n",
       "email            0\n",
       "occyp_type       0\n",
       "begin_month      0\n",
       "car_reality      0\n",
       "credit           0\n",
       "dtype: int64"
      ]
     },
     "execution_count": 12,
     "metadata": {},
     "output_type": "execute_result"
    }
   ],
   "source": [
    "train.isnull().sum()"
   ]
  },
  {
   "cell_type": "code",
   "execution_count": 13,
   "metadata": {
    "colab": {
     "base_uri": "https://localhost:8080/"
    },
    "id": "WLNtQOI_yjxM",
    "outputId": "1b91ccb9-f12d-40ef-a5d3-8cf40d26c0ce"
   },
   "outputs": [
    {
     "data": {
      "text/plain": [
       "index            0\n",
       "gender           0\n",
       "Annual_income    0\n",
       "income_type      0\n",
       "Education        0\n",
       "family_type      0\n",
       "house_type       0\n",
       "DAYS_BIRTH       0\n",
       "working_day      0\n",
       "FLAG_MOBIL       0\n",
       "work_phone       0\n",
       "phone            0\n",
       "email            0\n",
       "occyp_type       0\n",
       "begin_month      0\n",
       "car_reality      0\n",
       "dtype: int64"
      ]
     },
     "execution_count": 13,
     "metadata": {},
     "output_type": "execute_result"
    }
   ],
   "source": [
    "test.isnull().sum()"
   ]
  },
  {
   "cell_type": "code",
   "execution_count": 14,
   "metadata": {
    "id": "SBjL5fHtyneR"
   },
   "outputs": [],
   "source": [
    "train = pd.get_dummies(train)\n",
    "test = pd.get_dummies(test)"
   ]
  },
  {
   "cell_type": "markdown",
   "metadata": {
    "id": "XcWcd2Icy3yO"
   },
   "source": [
    "# Model - RandomForestClassifier\n"
   ]
  },
  {
   "cell_type": "code",
   "execution_count": 15,
   "metadata": {
    "id": "pDz93ZKUy763"
   },
   "outputs": [],
   "source": [
    "train_x=train.drop('credit', axis=1)\n",
    "train_y=train[['credit']]\n",
    "test_x=test"
   ]
  },
  {
   "cell_type": "code",
   "execution_count": 16,
   "metadata": {
    "colab": {
     "base_uri": "https://localhost:8080/"
    },
    "id": "tlNuH6qYzGe9",
    "outputId": "ef244c99-1208-4ab1-b4b8-0bd0ea8b781d"
   },
   "outputs": [
    {
     "name": "stdout",
     "output_type": "stream",
     "text": [
      "(26457, 52) (26457, 1) (10000, 52)\n"
     ]
    }
   ],
   "source": [
    "print(train_x.shape, train_y.shape, test.shape)"
   ]
  },
  {
   "cell_type": "code",
   "execution_count": 17,
   "metadata": {
    "colab": {
     "base_uri": "https://localhost:8080/",
     "height": 512
    },
    "id": "fq17fKG3zLzh",
    "outputId": "bc5c8818-5b1d-4cbb-823b-afbf9257eecd"
   },
   "outputs": [
    {
     "name": "stdout",
     "output_type": "stream",
     "text": [
      "Train set: \n",
      "(21165, 52)\n",
      "(21165, 1)\n",
      "===========\n",
      "Validation set: \n",
      "(5292, 52)\n",
      "(5292, 1)\n"
     ]
    },
    {
     "name": "stderr",
     "output_type": "stream",
     "text": [
      "/var/folders/wc/qvzfbr3n257938b_6zb2g1q40000gn/T/ipykernel_19982/3849567992.py:23: DataConversionWarning: A column-vector y was passed when a 1d array was expected. Please change the shape of y to (n_samples,), for example using ravel().\n",
      "  clf.fit(X_train, y_train)\n"
     ]
    },
    {
     "name": "stdout",
     "output_type": "stream",
     "text": [
      "log_loss: 0.7928477426327026\n"
     ]
    }
   ],
   "source": [
    "from sklearn.ensemble import RandomForestClassifier\n",
    "from sklearn.metrics import accuracy_score, log_loss\n",
    "from sklearn.metrics import f1_score\n",
    "from tensorflow.keras.utils import to_categorical\n",
    "from sklearn.model_selection import train_test_split\n",
    "\n",
    "\n",
    "X_train, X_val, y_train, y_val = train_test_split(train_x, train_y, \n",
    "                                                    stratify=train_y,\n",
    "                                                  test_size=0.2,\n",
    "                                                    random_state = 10086)\n",
    "\n",
    "print(\"Train set: \")\n",
    "print(X_train.shape)\n",
    "print(y_train.shape)\n",
    "print(\"===========\")\n",
    "print(\"Validation set: \")\n",
    "print(X_val.shape)\n",
    "print(y_val.shape)\n",
    "\n",
    "\n",
    "clf=RandomForestClassifier()\n",
    "clf.fit(X_train, y_train)\n",
    "y_pred=clf.predict_proba(X_val)\n",
    "\n",
    "print(f\"log_loss: {log_loss(to_categorical(y_val['credit']), y_pred)}\")"
   ]
  },
  {
   "cell_type": "code",
   "execution_count": 18,
   "metadata": {
    "id": "bXzhcqaezXah"
   },
   "outputs": [],
   "source": [
    "pred = clf.predict_proba(test_x)"
   ]
  },
  {
   "cell_type": "code",
   "execution_count": 19,
   "metadata": {
    "colab": {
     "base_uri": "https://localhost:8080/",
     "height": 200
    },
    "id": "EXlaJgZwz51i",
    "outputId": "062de282-d50a-47e0-9e69-87f037467792"
   },
   "outputs": [
    {
     "ename": "NameError",
     "evalue": "name 'submission' is not defined",
     "output_type": "error",
     "traceback": [
      "\u001b[0;31m---------------------------------------------------------------------------\u001b[0m",
      "\u001b[0;31mNameError\u001b[0m                                 Traceback (most recent call last)",
      "\u001b[0;32m/var/folders/wc/qvzfbr3n257938b_6zb2g1q40000gn/T/ipykernel_19982/3365464162.py\u001b[0m in \u001b[0;36m<module>\u001b[0;34m\u001b[0m\n\u001b[0;32m----> 1\u001b[0;31m \u001b[0msubmission\u001b[0m\u001b[0;34m.\u001b[0m\u001b[0mhead\u001b[0m\u001b[0;34m(\u001b[0m\u001b[0;34m)\u001b[0m\u001b[0;34m\u001b[0m\u001b[0;34m\u001b[0m\u001b[0m\n\u001b[0m",
      "\u001b[0;31mNameError\u001b[0m: name 'submission' is not defined"
     ]
    }
   ],
   "source": [
    "submission.head()"
   ]
  },
  {
   "cell_type": "code",
   "execution_count": null,
   "metadata": {
    "colab": {
     "base_uri": "https://localhost:8080/"
    },
    "id": "bSw9AFWUz930",
    "outputId": "47129a96-a7de-45e9-e571-37902494abf3"
   },
   "outputs": [],
   "source": [
    "submission.loc[:,1:] = pred"
   ]
  },
  {
   "cell_type": "code",
   "execution_count": null,
   "metadata": {
    "colab": {
     "base_uri": "https://localhost:8080/",
     "height": 408
    },
    "id": "vKyAtV3oz_yl",
    "outputId": "86bd0b2f-fbab-40dc-819a-9063b931cd86"
   },
   "outputs": [],
   "source": [
    "submission"
   ]
  },
  {
   "cell_type": "code",
   "execution_count": null,
   "metadata": {
    "id": "EvbH0sob0KJL"
   },
   "outputs": [],
   "source": [
    "# submission.to_csv('/content/drive/MyDrive/dacon_2021/베이스라인.csv',index=False)"
   ]
  },
  {
   "cell_type": "markdown",
   "metadata": {
    "id": "lWow936a3kJB"
   },
   "source": [
    "# Model - LogistiRegression"
   ]
  },
  {
   "cell_type": "code",
   "execution_count": null,
   "metadata": {
    "colab": {
     "base_uri": "https://localhost:8080/"
    },
    "id": "TOgitokK3i8B",
    "outputId": "96860871-da6b-4985-ecc0-3c2ee7f355e1"
   },
   "outputs": [],
   "source": [
    "from sklearn.linear_model import LogisticRegression\n",
    "\n",
    "X_train, X_val, y_train, y_val = train_test_split(train_x, train_y, \n",
    "                                                    stratify=train_y,\n",
    "                                                  test_size=0.2,\n",
    "                                                    random_state = 10086)\n",
    "\n",
    "# 모델 생성 및 학습 시키기\n",
    "logistic = LogisticRegression()\n",
    "logistic.fit(X_train, y_train)\n",
    "\n",
    "# 결과 확인\n",
    "print(\"validation 데이터셋 정확도:\", logistic.score(X_val, y_val))\n",
    "\n",
    "y_pred=clf.predict_proba(X_val)\n",
    "print(f\"log_loss: {log_loss(to_categorical(y_val['credit']), y_pred)}\")"
   ]
  },
  {
   "cell_type": "code",
   "execution_count": null,
   "metadata": {
    "id": "GPGhwRXo4bsx"
   },
   "outputs": [],
   "source": []
  }
 ],
 "metadata": {
  "colab": {
   "authorship_tag": "ABX9TyOgSdiyJhgSm/RNbBQH88wS",
   "collapsed_sections": [],
   "include_colab_link": true,
   "mount_file_id": "1s_SFk5bpuuE_9_ODVz_V0Mr0bFU4e6m5",
   "name": "Prediction_of_default_rate.ipynb",
   "provenance": []
  },
  "kernelspec": {
   "display_name": "Python 3 (ipykernel)",
   "language": "python",
   "name": "python3"
  },
  "language_info": {
   "codemirror_mode": {
    "name": "ipython",
    "version": 3
   },
   "file_extension": ".py",
   "mimetype": "text/x-python",
   "name": "python",
   "nbconvert_exporter": "python",
   "pygments_lexer": "ipython3",
   "version": "3.9.7"
  }
 },
 "nbformat": 4,
 "nbformat_minor": 1
}
