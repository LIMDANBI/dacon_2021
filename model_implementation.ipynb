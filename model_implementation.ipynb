{
 "cells": [
  {
   "cell_type": "code",
   "execution_count": 1,
   "id": "2c71effa",
   "metadata": {},
   "outputs": [],
   "source": [
    "import pandas as pd\n",
    "import numpy as np\n",
    "import matplotlib.pyplot as plt\n",
    "import seaborn as sns\n",
    "\n",
    "%matplotlib inline"
   ]
  },
  {
   "cell_type": "markdown",
   "id": "2b5a4bf6",
   "metadata": {},
   "source": [
    "# Data 전처리"
   ]
  },
  {
   "cell_type": "code",
   "execution_count": 2,
   "id": "a186e786",
   "metadata": {},
   "outputs": [],
   "source": [
    "train_df = pd.read_csv(\"dataset/train.csv\")\n",
    "test_df = pd.read_csv(\"dataset/test.csv\")\n",
    "submission = pd.read_csv(\"dataset/sample_submission.csv\")"
   ]
  },
  {
   "cell_type": "code",
   "execution_count": 3,
   "id": "d8975bf7",
   "metadata": {},
   "outputs": [
    {
     "name": "stdout",
     "output_type": "stream",
     "text": [
      "(26457, 17) (10000, 16) (10000, 4)\n"
     ]
    }
   ],
   "source": [
    "print(train_df.shape, test_df.shape, submission.shape)"
   ]
  },
  {
   "cell_type": "markdown",
   "id": "d003677d",
   "metadata": {},
   "source": [
    "### FLAG_MOBIL 변수 삭제 "
   ]
  },
  {
   "cell_type": "code",
   "execution_count": 4,
   "id": "14271cb4",
   "metadata": {},
   "outputs": [
    {
     "name": "stdout",
     "output_type": "stream",
     "text": [
      "1    26457\n",
      "Name: FLAG_MOBIL, dtype: int64\n",
      "\n",
      "1    10000\n",
      "Name: FLAG_MOBIL, dtype: int64\n",
      "(26457, 16) (10000, 15)\n"
     ]
    }
   ],
   "source": [
    "print(train_df['FLAG_MOBIL'].value_counts(), end = '\\n\\n') # 모두 1 -> 의미 x => drop\n",
    "print(test_df['FLAG_MOBIL'].value_counts()) # 모두 1 -> 의미 x => drop\n",
    "train_df.drop('FLAG_MOBIL', axis=True, inplace=True)\n",
    "test_df.drop('FLAG_MOBIL', axis=True, inplace=True)\n",
    "print(train_df.shape, test_df.shape)"
   ]
  },
  {
   "cell_type": "markdown",
   "id": "9ed0f23d",
   "metadata": {},
   "source": [
    "### index 변수 삭제"
   ]
  },
  {
   "cell_type": "code",
   "execution_count": 5,
   "id": "1e1f4e69",
   "metadata": {},
   "outputs": [
    {
     "name": "stdout",
     "output_type": "stream",
     "text": [
      "(26457, 15) (10000, 14)\n"
     ]
    }
   ],
   "source": [
    "train_df.drop('index', axis=True, inplace=True) # 1,2,3 ... index -> 의미 x\n",
    "test_df.drop('index', axis=True, inplace=True) # 1,2,3 ... index -> 의미 x\n",
    "print(train_df.shape, test_df.shape)"
   ]
  },
  {
   "cell_type": "markdown",
   "id": "064cb274",
   "metadata": {},
   "source": [
    "### binary 변수 처리"
   ]
  },
  {
   "cell_type": "code",
   "execution_count": 6,
   "id": "84728376",
   "metadata": {},
   "outputs": [],
   "source": [
    "# binary variable (여성 - 0, 남성 - 1)\n",
    "train_df['gender'] = train_df['gender'].replace({'F':0, 'M':1})\n",
    "test_df['gender'] = test_df['gender'].replace({'F':0, 'M':1})"
   ]
  },
  {
   "cell_type": "code",
   "execution_count": 7,
   "id": "01179bd0",
   "metadata": {},
   "outputs": [
    {
     "data": {
      "text/html": [
       "<div>\n",
       "<style scoped>\n",
       "    .dataframe tbody tr th:only-of-type {\n",
       "        vertical-align: middle;\n",
       "    }\n",
       "\n",
       "    .dataframe tbody tr th {\n",
       "        vertical-align: top;\n",
       "    }\n",
       "\n",
       "    .dataframe thead th {\n",
       "        text-align: right;\n",
       "    }\n",
       "</style>\n",
       "<table border=\"1\" class=\"dataframe\">\n",
       "  <thead>\n",
       "    <tr style=\"text-align: right;\">\n",
       "      <th></th>\n",
       "      <th>gender</th>\n",
       "      <th>Annual_income</th>\n",
       "      <th>income_type</th>\n",
       "      <th>Education</th>\n",
       "      <th>family_type</th>\n",
       "      <th>house_type</th>\n",
       "      <th>DAYS_BIRTH</th>\n",
       "      <th>working_day</th>\n",
       "      <th>work_phone</th>\n",
       "      <th>phone</th>\n",
       "      <th>email</th>\n",
       "      <th>occyp_type</th>\n",
       "      <th>begin_month</th>\n",
       "      <th>car_reality</th>\n",
       "      <th>credit</th>\n",
       "    </tr>\n",
       "  </thead>\n",
       "  <tbody>\n",
       "    <tr>\n",
       "      <th>0</th>\n",
       "      <td>0</td>\n",
       "      <td>202500.0</td>\n",
       "      <td>Commercial associate</td>\n",
       "      <td>Higher education</td>\n",
       "      <td>Married</td>\n",
       "      <td>Municipal apartment</td>\n",
       "      <td>-13899</td>\n",
       "      <td>-4709</td>\n",
       "      <td>0</td>\n",
       "      <td>0</td>\n",
       "      <td>0</td>\n",
       "      <td>NaN</td>\n",
       "      <td>-6.0</td>\n",
       "      <td>0</td>\n",
       "      <td>1.0</td>\n",
       "    </tr>\n",
       "    <tr>\n",
       "      <th>1</th>\n",
       "      <td>0</td>\n",
       "      <td>247500.0</td>\n",
       "      <td>Commercial associate</td>\n",
       "      <td>Secondary / secondary special</td>\n",
       "      <td>Civil marriage</td>\n",
       "      <td>House / apartment</td>\n",
       "      <td>-11380</td>\n",
       "      <td>-1540</td>\n",
       "      <td>0</td>\n",
       "      <td>0</td>\n",
       "      <td>1</td>\n",
       "      <td>Laborers</td>\n",
       "      <td>-5.0</td>\n",
       "      <td>1</td>\n",
       "      <td>1.0</td>\n",
       "    </tr>\n",
       "    <tr>\n",
       "      <th>2</th>\n",
       "      <td>1</td>\n",
       "      <td>450000.0</td>\n",
       "      <td>Working</td>\n",
       "      <td>Higher education</td>\n",
       "      <td>Married</td>\n",
       "      <td>House / apartment</td>\n",
       "      <td>-19087</td>\n",
       "      <td>-4434</td>\n",
       "      <td>0</td>\n",
       "      <td>1</td>\n",
       "      <td>0</td>\n",
       "      <td>Managers</td>\n",
       "      <td>-22.0</td>\n",
       "      <td>2</td>\n",
       "      <td>2.0</td>\n",
       "    </tr>\n",
       "    <tr>\n",
       "      <th>3</th>\n",
       "      <td>0</td>\n",
       "      <td>202500.0</td>\n",
       "      <td>Commercial associate</td>\n",
       "      <td>Secondary / secondary special</td>\n",
       "      <td>Married</td>\n",
       "      <td>House / apartment</td>\n",
       "      <td>-15088</td>\n",
       "      <td>-2092</td>\n",
       "      <td>0</td>\n",
       "      <td>1</td>\n",
       "      <td>0</td>\n",
       "      <td>Sales staff</td>\n",
       "      <td>-37.0</td>\n",
       "      <td>1</td>\n",
       "      <td>0.0</td>\n",
       "    </tr>\n",
       "    <tr>\n",
       "      <th>4</th>\n",
       "      <td>0</td>\n",
       "      <td>157500.0</td>\n",
       "      <td>State servant</td>\n",
       "      <td>Higher education</td>\n",
       "      <td>Married</td>\n",
       "      <td>House / apartment</td>\n",
       "      <td>-15037</td>\n",
       "      <td>-2105</td>\n",
       "      <td>0</td>\n",
       "      <td>0</td>\n",
       "      <td>0</td>\n",
       "      <td>Managers</td>\n",
       "      <td>-26.0</td>\n",
       "      <td>2</td>\n",
       "      <td>2.0</td>\n",
       "    </tr>\n",
       "  </tbody>\n",
       "</table>\n",
       "</div>"
      ],
      "text/plain": [
       "   gender  Annual_income           income_type                      Education  \\\n",
       "0       0       202500.0  Commercial associate               Higher education   \n",
       "1       0       247500.0  Commercial associate  Secondary / secondary special   \n",
       "2       1       450000.0               Working               Higher education   \n",
       "3       0       202500.0  Commercial associate  Secondary / secondary special   \n",
       "4       0       157500.0         State servant               Higher education   \n",
       "\n",
       "      family_type           house_type  DAYS_BIRTH  working_day  work_phone  \\\n",
       "0         Married  Municipal apartment      -13899        -4709           0   \n",
       "1  Civil marriage    House / apartment      -11380        -1540           0   \n",
       "2         Married    House / apartment      -19087        -4434           0   \n",
       "3         Married    House / apartment      -15088        -2092           0   \n",
       "4         Married    House / apartment      -15037        -2105           0   \n",
       "\n",
       "   phone  email   occyp_type  begin_month  car_reality  credit  \n",
       "0      0      0          NaN         -6.0            0     1.0  \n",
       "1      0      1     Laborers         -5.0            1     1.0  \n",
       "2      1      0     Managers        -22.0            2     2.0  \n",
       "3      1      0  Sales staff        -37.0            1     0.0  \n",
       "4      0      0     Managers        -26.0            2     2.0  "
      ]
     },
     "execution_count": 7,
     "metadata": {},
     "output_type": "execute_result"
    }
   ],
   "source": [
    "train_df.head()"
   ]
  },
  {
   "cell_type": "code",
   "execution_count": 8,
   "id": "dfd4cd80",
   "metadata": {},
   "outputs": [
    {
     "name": "stdout",
     "output_type": "stream",
     "text": [
      "<class 'pandas.core.frame.DataFrame'>\n",
      "RangeIndex: 26457 entries, 0 to 26456\n",
      "Data columns (total 15 columns):\n",
      " #   Column         Non-Null Count  Dtype  \n",
      "---  ------         --------------  -----  \n",
      " 0   gender         26457 non-null  int64  \n",
      " 1   Annual_income  26457 non-null  float64\n",
      " 2   income_type    26457 non-null  object \n",
      " 3   Education      26457 non-null  object \n",
      " 4   family_type    26457 non-null  object \n",
      " 5   house_type     26457 non-null  object \n",
      " 6   DAYS_BIRTH     26457 non-null  int64  \n",
      " 7   working_day    26457 non-null  int64  \n",
      " 8   work_phone     26457 non-null  int64  \n",
      " 9   phone          26457 non-null  int64  \n",
      " 10  email          26457 non-null  int64  \n",
      " 11  occyp_type     18286 non-null  object \n",
      " 12  begin_month    26457 non-null  float64\n",
      " 13  car_reality    26457 non-null  int64  \n",
      " 14  credit         26457 non-null  float64\n",
      "dtypes: float64(3), int64(7), object(5)\n",
      "memory usage: 3.0+ MB\n",
      "None\n",
      "\n",
      "--------------------구분---------------------\n",
      "\n",
      "<class 'pandas.core.frame.DataFrame'>\n",
      "RangeIndex: 10000 entries, 0 to 9999\n",
      "Data columns (total 14 columns):\n",
      " #   Column         Non-Null Count  Dtype  \n",
      "---  ------         --------------  -----  \n",
      " 0   gender         10000 non-null  int64  \n",
      " 1   Annual_income  10000 non-null  float64\n",
      " 2   income_type    10000 non-null  object \n",
      " 3   Education      10000 non-null  object \n",
      " 4   family_type    10000 non-null  object \n",
      " 5   house_type     10000 non-null  object \n",
      " 6   DAYS_BIRTH     10000 non-null  int64  \n",
      " 7   working_day    10000 non-null  int64  \n",
      " 8   work_phone     10000 non-null  int64  \n",
      " 9   phone          10000 non-null  int64  \n",
      " 10  email          10000 non-null  int64  \n",
      " 11  occyp_type     6848 non-null   object \n",
      " 12  begin_month    10000 non-null  float64\n",
      " 13  car_reality    10000 non-null  int64  \n",
      "dtypes: float64(2), int64(7), object(5)\n",
      "memory usage: 1.1+ MB\n",
      "None\n"
     ]
    }
   ],
   "source": [
    "print(train_df.info(), end='\\n\\n')\n",
    "print('--------------------구분---------------------', end='\\n\\n')\n",
    "print(test_df.info())"
   ]
  },
  {
   "cell_type": "markdown",
   "id": "dd961c25",
   "metadata": {},
   "source": [
    "### 결측치 처리"
   ]
  },
  {
   "cell_type": "code",
   "execution_count": 9,
   "id": "5cd6da24",
   "metadata": {},
   "outputs": [
    {
     "name": "stdout",
     "output_type": "stream",
     "text": [
      "gender              0\n",
      "Annual_income       0\n",
      "income_type         0\n",
      "Education           0\n",
      "family_type         0\n",
      "house_type          0\n",
      "DAYS_BIRTH          0\n",
      "working_day         0\n",
      "work_phone          0\n",
      "phone               0\n",
      "email               0\n",
      "occyp_type       8171\n",
      "begin_month         0\n",
      "car_reality         0\n",
      "credit              0\n",
      "dtype: int64\n",
      "\n",
      "--------------------구분---------------------\n",
      "\n",
      "gender              0\n",
      "Annual_income       0\n",
      "income_type         0\n",
      "Education           0\n",
      "family_type         0\n",
      "house_type          0\n",
      "DAYS_BIRTH          0\n",
      "working_day         0\n",
      "work_phone          0\n",
      "phone               0\n",
      "email               0\n",
      "occyp_type       3152\n",
      "begin_month         0\n",
      "car_reality         0\n",
      "dtype: int64\n"
     ]
    }
   ],
   "source": [
    "print(train_df.isnull().sum(), end='\\n\\n')\n",
    "print('--------------------구분---------------------', end='\\n\\n')\n",
    "print(test_df.isnull().sum())"
   ]
  },
  {
   "cell_type": "code",
   "execution_count": 10,
   "id": "86911688",
   "metadata": {},
   "outputs": [
    {
     "name": "stdout",
     "output_type": "stream",
     "text": [
      "gender           0\n",
      "Annual_income    0\n",
      "income_type      0\n",
      "Education        0\n",
      "family_type      0\n",
      "house_type       0\n",
      "DAYS_BIRTH       0\n",
      "working_day      0\n",
      "work_phone       0\n",
      "phone            0\n",
      "email            0\n",
      "occyp_type       0\n",
      "begin_month      0\n",
      "car_reality      0\n",
      "credit           0\n",
      "dtype: int64\n",
      "\n",
      "--------------------구분---------------------\n",
      "\n",
      "gender           0\n",
      "Annual_income    0\n",
      "income_type      0\n",
      "Education        0\n",
      "family_type      0\n",
      "house_type       0\n",
      "DAYS_BIRTH       0\n",
      "working_day      0\n",
      "work_phone       0\n",
      "phone            0\n",
      "email            0\n",
      "occyp_type       0\n",
      "begin_month      0\n",
      "car_reality      0\n",
      "dtype: int64\n"
     ]
    }
   ],
   "source": [
    "train_df['occyp_type'] = train_df['occyp_type'].fillna('Null')\n",
    "test_df['occyp_type'] = test_df['occyp_type'].fillna('Null')\n",
    "print(train_df.isnull().sum(), end='\\n\\n')\n",
    "print('--------------------구분---------------------', end='\\n\\n')\n",
    "print(test_df.isnull().sum())"
   ]
  },
  {
   "cell_type": "markdown",
   "id": "4dd887f6",
   "metadata": {},
   "source": [
    "### One-Hot Encoding"
   ]
  },
  {
   "cell_type": "code",
   "execution_count": 11,
   "id": "e1661a57",
   "metadata": {},
   "outputs": [
    {
     "name": "stdout",
     "output_type": "stream",
     "text": [
      "(26457, 50) (10000, 49)\n"
     ]
    }
   ],
   "source": [
    "train_one_hot = pd.get_dummies(train_df)\n",
    "test_one_hot = pd.get_dummies(test_df)\n",
    "print(train_one_hot.shape, test_one_hot.shape)"
   ]
  },
  {
   "cell_type": "markdown",
   "id": "73b6f292",
   "metadata": {},
   "source": [
    "### 훈련 데이터(Train data)와 테스트 데이터(Test data)의 분리"
   ]
  },
  {
   "cell_type": "code",
   "execution_count": 12,
   "id": "c1f74e1a",
   "metadata": {},
   "outputs": [
    {
     "name": "stdout",
     "output_type": "stream",
     "text": [
      "(26457, 49) (26457, 1) (10000, 49)\n"
     ]
    }
   ],
   "source": [
    "train_x = train_one_hot.drop('credit', axis=1)\n",
    "train_y = train_one_hot[['credit']]\n",
    "test_x = test_one_hot\n",
    "print(train_x.shape, train_y.shape, test_x.shape)"
   ]
  },
  {
   "cell_type": "code",
   "execution_count": 13,
   "id": "782dd216",
   "metadata": {},
   "outputs": [
    {
     "name": "stdout",
     "output_type": "stream",
     "text": [
      "(21165, 49) (21165, 1) (5292, 49) (5292, 1)\n"
     ]
    }
   ],
   "source": [
    "from sklearn.model_selection import train_test_split\n",
    "\n",
    "X_train, X_val, y_train, y_val = train_test_split(train_x, train_y,stratify=train_y, \n",
    "                                                  test_size=0.2, random_state = 10086)\n",
    "print(X_train.shape, y_train.shape,  X_val.shape, y_val.shape)"
   ]
  },
  {
   "cell_type": "markdown",
   "id": "6e55d400",
   "metadata": {},
   "source": [
    "### ouput 클래스 확인"
   ]
  },
  {
   "cell_type": "code",
   "execution_count": 14,
   "id": "12e75af4",
   "metadata": {},
   "outputs": [
    {
     "data": {
      "text/plain": [
       "array([1., 2., 0.])"
      ]
     },
     "execution_count": 14,
     "metadata": {},
     "output_type": "execute_result"
    }
   ],
   "source": [
    "train_df['credit'].unique()"
   ]
  },
  {
   "cell_type": "code",
   "execution_count": 15,
   "id": "24c94fd7",
   "metadata": {},
   "outputs": [
    {
     "data": {
      "text/plain": [
       "2.0    16968\n",
       "1.0     6267\n",
       "0.0     3222\n",
       "Name: credit, dtype: int64"
      ]
     },
     "execution_count": 15,
     "metadata": {},
     "output_type": "execute_result"
    }
   ],
   "source": [
    "train_df['credit'].value_counts()"
   ]
  },
  {
   "cell_type": "markdown",
   "id": "3da86614",
   "metadata": {},
   "source": [
    "## Oversampling (SMOTE)"
   ]
  },
  {
   "cell_type": "code",
   "execution_count": 16,
   "id": "6b65a326",
   "metadata": {},
   "outputs": [],
   "source": [
    "# y_train.value_counts()"
   ]
  },
  {
   "cell_type": "code",
   "execution_count": 17,
   "id": "74313d43",
   "metadata": {},
   "outputs": [],
   "source": [
    "# # !pip install imblearn\n",
    "# from imblearn.over_sampling import SMOTE\n",
    "# smote = SMOTE(k_neighbors = 3)\n",
    "# X_train, y_train = smote.fit_resample(X_train, y_train)"
   ]
  },
  {
   "cell_type": "code",
   "execution_count": 18,
   "id": "141ef99f",
   "metadata": {},
   "outputs": [],
   "source": [
    "# y_train.value_counts()"
   ]
  },
  {
   "cell_type": "markdown",
   "id": "83750873",
   "metadata": {},
   "source": [
    "### 데이터 정규화 (MinMaxScaler)"
   ]
  },
  {
   "cell_type": "code",
   "execution_count": 19,
   "id": "0292e45f",
   "metadata": {},
   "outputs": [],
   "source": [
    "from sklearn.preprocessing import MinMaxScaler as MMS\n",
    "scaler = MMS().fit(X_train) # 최소 0 ~ 최대 1\n",
    "\n",
    "X_train = scaler.transform(X_train)\n",
    "X_val = scaler.transform(X_val)"
   ]
  },
  {
   "cell_type": "code",
   "execution_count": 20,
   "id": "895418f6",
   "metadata": {},
   "outputs": [],
   "source": [
    "# X_train = pd.DataFrame(X_train, columns = train_x.columns)\n",
    "# X_train"
   ]
  },
  {
   "cell_type": "code",
   "execution_count": 21,
   "id": "e7f1672a",
   "metadata": {},
   "outputs": [],
   "source": [
    "# y_train"
   ]
  },
  {
   "cell_type": "markdown",
   "id": "0de02c84",
   "metadata": {},
   "source": [
    "## RandomForestClassifier"
   ]
  },
  {
   "cell_type": "code",
   "execution_count": 22,
   "id": "45427088",
   "metadata": {},
   "outputs": [
    {
     "name": "stderr",
     "output_type": "stream",
     "text": [
      "/var/folders/wc/qvzfbr3n257938b_6zb2g1q40000gn/T/ipykernel_34098/2934263419.py:7: DataConversionWarning: A column-vector y was passed when a 1d array was expected. Please change the shape of y to (n_samples,), for example using ravel().\n",
      "  model_RF.fit(X_train, y_train)\n"
     ]
    },
    {
     "name": "stdout",
     "output_type": "stream",
     "text": [
      "log_loss: 0.9593378947449288\n"
     ]
    }
   ],
   "source": [
    "from sklearn.ensemble import RandomForestClassifier\n",
    "from sklearn.metrics import accuracy_score, log_loss\n",
    "from sklearn.metrics import f1_score\n",
    "from tensorflow.keras.utils import to_categorical\n",
    "\n",
    "model_RF = RandomForestClassifier()\n",
    "model_RF.fit(X_train, y_train)\n",
    "y_pred = model_RF.predict_proba(X_val)\n",
    "\n",
    "print(f\"log_loss: {log_loss(to_categorical(y_val['credit']), y_pred)}\")"
   ]
  },
  {
   "cell_type": "markdown",
   "id": "397ca2e2",
   "metadata": {},
   "source": [
    "## LogisticRegression"
   ]
  },
  {
   "cell_type": "code",
   "execution_count": 23,
   "id": "e6ce1bff",
   "metadata": {},
   "outputs": [
    {
     "name": "stderr",
     "output_type": "stream",
     "text": [
      "/Library/Frameworks/Python.framework/Versions/3.9/lib/python3.9/site-packages/sklearn/utils/validation.py:985: DataConversionWarning: A column-vector y was passed when a 1d array was expected. Please change the shape of y to (n_samples, ), for example using ravel().\n",
      "  y = column_or_1d(y, warn=True)\n"
     ]
    },
    {
     "name": "stdout",
     "output_type": "stream",
     "text": [
      "log_loss: 0.8651591570671058\n"
     ]
    }
   ],
   "source": [
    "from sklearn.linear_model import LogisticRegression\n",
    "\n",
    "model_LR = LogisticRegression(max_iter=1000)\n",
    "model_LR.fit(X_train, y_train)\n",
    "y_pred = model_LR.predict_proba(X_val)\n",
    "\n",
    "print(f\"log_loss: {log_loss(to_categorical(y_val['credit']), y_pred)}\")"
   ]
  },
  {
   "cell_type": "markdown",
   "id": "49f79c97",
   "metadata": {},
   "source": [
    "## MLPClassifier"
   ]
  },
  {
   "cell_type": "code",
   "execution_count": 24,
   "id": "b2149b79",
   "metadata": {},
   "outputs": [
    {
     "name": "stderr",
     "output_type": "stream",
     "text": [
      "/Library/Frameworks/Python.framework/Versions/3.9/lib/python3.9/site-packages/sklearn/neural_network/_multilayer_perceptron.py:1109: DataConversionWarning: A column-vector y was passed when a 1d array was expected. Please change the shape of y to (n_samples, ), for example using ravel().\n",
      "  y = column_or_1d(y, warn=True)\n"
     ]
    },
    {
     "name": "stdout",
     "output_type": "stream",
     "text": [
      "log_loss: 0.8445388177922136\n"
     ]
    }
   ],
   "source": [
    "from sklearn.neural_network import MLPClassifier\n",
    "\n",
    "model_MLP = MLPClassifier(hidden_layer_sizes = (100, 100), max_iter=200, activation='relu', alpha=1)\n",
    "model_MLP.fit(X_train, y_train)\n",
    "y_pred = model_MLP.predict_proba(X_val)\n",
    "\n",
    "print(f\"log_loss: {log_loss(to_categorical(y_val['credit']), y_pred)}\")"
   ]
  },
  {
   "cell_type": "markdown",
   "id": "f86d93ff",
   "metadata": {},
   "source": [
    "## DecisionTreeClassifier"
   ]
  },
  {
   "cell_type": "code",
   "execution_count": 25,
   "id": "a9af7fed",
   "metadata": {},
   "outputs": [
    {
     "name": "stdout",
     "output_type": "stream",
     "text": [
      "log_loss: 0.8111744676790846\n"
     ]
    }
   ],
   "source": [
    "from sklearn.tree import DecisionTreeClassifier\n",
    "\n",
    "model_TREE = DecisionTreeClassifier(max_depth=2, random_state = 10086)\n",
    "model_TREE.fit(X_train, y_train)\n",
    "y_pred = model_TREE.predict_proba(X_val)\n",
    "\n",
    "print(f\"log_loss: {log_loss(to_categorical(y_val['credit']), y_pred)}\")"
   ]
  },
  {
   "cell_type": "markdown",
   "id": "6dd14738",
   "metadata": {},
   "source": [
    "## KNeighborsClassifier"
   ]
  },
  {
   "cell_type": "code",
   "execution_count": 26,
   "id": "41ab290d",
   "metadata": {},
   "outputs": [
    {
     "name": "stderr",
     "output_type": "stream",
     "text": [
      "/Library/Frameworks/Python.framework/Versions/3.9/lib/python3.9/site-packages/sklearn/neighbors/_classification.py:198: DataConversionWarning: A column-vector y was passed when a 1d array was expected. Please change the shape of y to (n_samples,), for example using ravel().\n",
      "  return self._fit(X, y)\n"
     ]
    },
    {
     "name": "stdout",
     "output_type": "stream",
     "text": [
      "log_loss: 0.8739689902515003\n"
     ]
    }
   ],
   "source": [
    "from sklearn.neighbors import KNeighborsClassifier\n",
    "\n",
    "model_KNN = KNeighborsClassifier(n_neighbors=150)\n",
    "model_KNN.fit(X_train, y_train)\n",
    "y_pred = model_KNN.predict_proba(X_val)\n",
    "\n",
    "print(f\"log_loss: {log_loss(to_categorical(y_val['credit']), y_pred)}\")"
   ]
  },
  {
   "cell_type": "markdown",
   "id": "85517693",
   "metadata": {},
   "source": [
    "## Ensemble (VotingClassifier)"
   ]
  },
  {
   "cell_type": "code",
   "execution_count": 27,
   "id": "f6dde818",
   "metadata": {},
   "outputs": [
    {
     "name": "stderr",
     "output_type": "stream",
     "text": [
      "/Library/Frameworks/Python.framework/Versions/3.9/lib/python3.9/site-packages/sklearn/preprocessing/_label.py:98: DataConversionWarning: A column-vector y was passed when a 1d array was expected. Please change the shape of y to (n_samples, ), for example using ravel().\n",
      "  y = column_or_1d(y, warn=True)\n",
      "/Library/Frameworks/Python.framework/Versions/3.9/lib/python3.9/site-packages/sklearn/preprocessing/_label.py:133: DataConversionWarning: A column-vector y was passed when a 1d array was expected. Please change the shape of y to (n_samples, ), for example using ravel().\n",
      "  y = column_or_1d(y, warn=True)\n"
     ]
    },
    {
     "name": "stdout",
     "output_type": "stream",
     "text": [
      "voting 분류기 정확도 0.6909\n"
     ]
    }
   ],
   "source": [
    "from sklearn.ensemble import VotingClassifier\n",
    "\n",
    "model_EnsembleH = VotingClassifier(estimators=[(\"LogisticRegression\", model_LR), (\"MLPClassifier\", model_MLP),\n",
    "                                               (\"DecisionTreeClassifier\", model_TREE), \n",
    "                                               (\"RandomForestClassifier\", model_RF)], voting = 'hard')\n",
    "\n",
    "model_EnsembleH.fit(X_train, y_train)\n",
    "y_pred = model_EnsembleH.predict(X_val)\n",
    "# print(f\"log_loss: {log_loss(to_categorical(y_val['credit']), y_pred)}\")\n",
    "print(\"voting 분류기 정확도 {0:.4f}\".format(accuracy_score(y_val, y_pred)))"
   ]
  },
  {
   "cell_type": "code",
   "execution_count": 28,
   "id": "e9e28375",
   "metadata": {},
   "outputs": [
    {
     "name": "stderr",
     "output_type": "stream",
     "text": [
      "/Library/Frameworks/Python.framework/Versions/3.9/lib/python3.9/site-packages/sklearn/preprocessing/_label.py:98: DataConversionWarning: A column-vector y was passed when a 1d array was expected. Please change the shape of y to (n_samples, ), for example using ravel().\n",
      "  y = column_or_1d(y, warn=True)\n",
      "/Library/Frameworks/Python.framework/Versions/3.9/lib/python3.9/site-packages/sklearn/preprocessing/_label.py:133: DataConversionWarning: A column-vector y was passed when a 1d array was expected. Please change the shape of y to (n_samples, ), for example using ravel().\n",
      "  y = column_or_1d(y, warn=True)\n"
     ]
    },
    {
     "name": "stdout",
     "output_type": "stream",
     "text": [
      "log_loss: 0.7668689694331253\n"
     ]
    }
   ],
   "source": [
    "model_EnsembleS = VotingClassifier(estimators=[(\"LogisticRegression\", model_LR), (\"MLPClassifier\", model_MLP),\n",
    "                                               (\"DecisionTreeClassifier\", model_TREE), \n",
    "                                               (\"RandomForestClassifier\", model_RF)], voting = 'soft')\n",
    "\n",
    "model_EnsembleS.fit(X_train, y_train)\n",
    "y_pred = model_EnsembleS.predict_proba(X_val)\n",
    "print(f\"log_loss: {log_loss(to_categorical(y_val['credit']), y_pred)}\")"
   ]
  },
  {
   "cell_type": "code",
   "execution_count": 30,
   "id": "16eb2bdd",
   "metadata": {},
   "outputs": [
    {
     "name": "stderr",
     "output_type": "stream",
     "text": [
      "/Library/Frameworks/Python.framework/Versions/3.9/lib/python3.9/site-packages/sklearn/base.py:438: UserWarning: X has feature names, but LogisticRegression was fitted without feature names\n",
      "  warnings.warn(\n",
      "/Library/Frameworks/Python.framework/Versions/3.9/lib/python3.9/site-packages/sklearn/base.py:438: UserWarning: X has feature names, but MLPClassifier was fitted without feature names\n",
      "  warnings.warn(\n",
      "/Library/Frameworks/Python.framework/Versions/3.9/lib/python3.9/site-packages/sklearn/base.py:438: UserWarning: X has feature names, but DecisionTreeClassifier was fitted without feature names\n",
      "  warnings.warn(\n",
      "/Library/Frameworks/Python.framework/Versions/3.9/lib/python3.9/site-packages/sklearn/base.py:438: UserWarning: X has feature names, but RandomForestClassifier was fitted without feature names\n",
      "  warnings.warn(\n",
      "/Library/Frameworks/Python.framework/Versions/3.9/lib/python3.9/site-packages/pandas/core/indexing.py:719: FutureWarning: Slicing a positional slice with .loc is not supported, and will raise TypeError in a future version.  Use .loc with labels or .iloc with positions instead.\n",
      "  indexer = self._get_setitem_indexer(key)\n"
     ]
    }
   ],
   "source": [
    "# pred = model_EnsembleS.predict_proba(test_x)\n",
    "# submission.loc[:,1:] = pred\n",
    "# submission.to_csv('model_EnsembleS.csv',index=False)"
   ]
  },
  {
   "cell_type": "markdown",
   "id": "1a215076",
   "metadata": {},
   "source": [
    "## DNN"
   ]
  },
  {
   "cell_type": "code",
   "execution_count": null,
   "id": "49ff251d",
   "metadata": {},
   "outputs": [],
   "source": []
  }
 ],
 "metadata": {
  "kernelspec": {
   "display_name": "Python 3 (ipykernel)",
   "language": "python",
   "name": "python3"
  },
  "language_info": {
   "codemirror_mode": {
    "name": "ipython",
    "version": 3
   },
   "file_extension": ".py",
   "mimetype": "text/x-python",
   "name": "python",
   "nbconvert_exporter": "python",
   "pygments_lexer": "ipython3",
   "version": "3.9.7"
  }
 },
 "nbformat": 4,
 "nbformat_minor": 5
}
